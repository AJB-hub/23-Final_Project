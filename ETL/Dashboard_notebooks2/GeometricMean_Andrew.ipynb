{
 "cells": [
  {
   "cell_type": "code",
   "execution_count": null,
   "metadata": {},
   "outputs": [],
   "source": [
    "### Import Dependencies"
   ]
  },
  {
   "cell_type": "code",
   "execution_count": 2,
   "metadata": {},
   "outputs": [],
   "source": [
    "import pandas as pd\n",
    "import numpy as np\n",
    "from scipy.spatial.distance import cdist, euclidean"
   ]
  },
  {
   "cell_type": "markdown",
   "metadata": {},
   "source": [
    "### Calculate Geometric Median for precincts in LA"
   ]
  },
  {
   "cell_type": "code",
   "execution_count": 9,
   "metadata": {},
   "outputs": [],
   "source": [
    "# https://stackoverflow.com/questions/30299267/geometric-median-of-multidimensional-points\n",
    "# https://www.pnas.org/content/pnas/97/4/1423.full.pdf\n",
    "\n",
    "def geometric_median(X, eps=1e-5):\n",
    "    y = np.mean(X, 0)\n",
    "\n",
    "    while True:\n",
    "        D = cdist(X, [y])\n",
    "        nonzeros = (D != 0)[:, 0]\n",
    "\n",
    "        Dinv = 1 / D[nonzeros]\n",
    "        Dinvs = np.sum(Dinv)\n",
    "        W = Dinv / Dinvs\n",
    "        T = np.sum(W * X[nonzeros], 0)\n",
    "\n",
    "        num_zeros = len(X) - np.sum(nonzeros)\n",
    "        if num_zeros == 0:\n",
    "            y1 = T\n",
    "        elif num_zeros == len(X):\n",
    "            return y\n",
    "        else:\n",
    "            R = (T - y) * Dinvs\n",
    "            r = np.linalg.norm(R)\n",
    "            rinv = 0 if r == 0 else num_zeros/r\n",
    "            y1 = max(0, 1-rinv)*T + min(1, rinv)*y\n",
    "\n",
    "        if euclidean(y, y1) < eps:\n",
    "            return y1\n",
    "\n",
    "        y = y1"
   ]
  },
  {
   "cell_type": "code",
   "execution_count": 108,
   "metadata": {},
   "outputs": [],
   "source": [
    "def jsonFileLoader(file):\n",
    "    #read json to df and transpose\n",
    "    crime_df = pd.read_json(file).transpose()\n",
    "\n",
    "    #group by precinct \n",
    "    gb = crime_df.groupby('LAPD_Area')    \n",
    "    split_crime_df = [gb.get_group(x) for x in gb.groups]\n",
    "\n",
    "    list1 = []\n",
    "    geoJsonS = {}\n",
    "    \n",
    "    for i, e in enumerate(split_crime_df):\n",
    "        prec_crime_np = split_crime_df[i][['LAT','LON']].to_numpy()\n",
    "        \n",
    "        y = list(geometric_median(prec_crime_np))\n",
    "        x = str(split_crime_df[i][\"LAPD_Area_Name\"].values[0])\n",
    "        \n",
    "        geoJsonE = {}\n",
    "        geoJsonE[\"type\"] = \"Feature\"\n",
    "        geoJsonE[\"geometry\"] = {\"type\":'Point','coordinates':[y[1], y[0]]}\n",
    "        geoJsonE['properties'] = {'name':x}\n",
    "        \n",
    "        list1.append(geoJsonE)\n",
    "    geoJsonS[\"type\"] = \"FeatureCollection\"    \n",
    "    geoJsonS['features'] = list1\n",
    "    return geoJsonS\n"
   ]
  },
  {
   "cell_type": "code",
   "execution_count": null,
   "metadata": {},
   "outputs": [],
   "source": [
    "for n in range(3,10):\n",
    "    file_to_load = f'../static/data/source/crime_201{n}.json'\n",
    "\n",
    "    fileName = f'crime_201{n}'\n",
    "    f = open(f\"../static/data/stats/{fileName}.geojson\", \"w\")\n",
    "    f.write(str(jsonFileLoader(file_to_load)))\n",
    "    f.close()"
   ]
  },
  {
   "cell_type": "code",
   "execution_count": null,
   "metadata": {},
   "outputs": [],
   "source": []
  },
  {
   "cell_type": "code",
   "execution_count": 89,
   "metadata": {},
   "outputs": [],
   "source": [
    "file_to_load = \"LA_Certificated_Dispensary_Locations.csv\""
   ]
  },
  {
   "cell_type": "code",
   "execution_count": 91,
   "metadata": {},
   "outputs": [],
   "source": [
    "def csvFileLoader(file):\n",
    "    disp_df = pd.read_csv(file_to_load)['LOCATION']\n",
    "    return disp_df"
   ]
  },
  {
   "cell_type": "code",
   "execution_count": 92,
   "metadata": {},
   "outputs": [
    {
     "data": {
      "text/plain": [
       "0      (33.7258, -118.2855)\n",
       "1      (33.7744, -118.2629)\n",
       "2      (33.7805, -118.2523)\n",
       "3       (33.7816, -118.243)\n",
       "4      (33.7871, -118.3081)\n",
       "               ...         \n",
       "415     (34.307, -118.4695)\n",
       "416    (34.3075, -118.4614)\n",
       "417    (34.3099, -118.4274)\n",
       "418    (34.3106, -118.4755)\n",
       "419    (34.3106, -118.4793)\n",
       "Name: LOCATION, Length: 420, dtype: object"
      ]
     },
     "execution_count": 92,
     "metadata": {},
     "output_type": "execute_result"
    }
   ],
   "source": [
    "csvFileLoader(file_to_load)"
   ]
  },
  {
   "cell_type": "code",
   "execution_count": null,
   "metadata": {},
   "outputs": [],
   "source": []
  }
 ],
 "metadata": {
  "kernelspec": {
   "display_name": "Python 3",
   "language": "python",
   "name": "python3"
  },
  "language_info": {
   "codemirror_mode": {
    "name": "ipython",
    "version": 3
   },
   "file_extension": ".py",
   "mimetype": "text/x-python",
   "name": "python",
   "nbconvert_exporter": "python",
   "pygments_lexer": "ipython3",
   "version": "3.8.5"
  }
 },
 "nbformat": 4,
 "nbformat_minor": 5
}
