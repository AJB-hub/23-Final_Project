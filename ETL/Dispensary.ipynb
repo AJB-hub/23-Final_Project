{
 "cells": [
  {
   "cell_type": "code",
   "execution_count": 7,
   "metadata": {},
   "outputs": [],
   "source": [
    "import pandas as pd\n",
    "import numpy as np\n",
    "import geojson as gj"
   ]
  },
  {
   "cell_type": "code",
   "execution_count": 8,
   "metadata": {},
   "outputs": [],
   "source": [
    "filePath = '../static/data/'\n",
    "dispFileName = f'{filePath}disp.geojson'\n",
    "file_to_load = f\"{filePath}source/LA_Certificated_Dispensary_Locations.csv\""
   ]
  },
  {
   "cell_type": "code",
   "execution_count": 9,
   "metadata": {},
   "outputs": [],
   "source": [
    "# Load into pandas\n",
    "disp_df = pd.read_csv(file_to_load)"
   ]
  },
  {
   "cell_type": "code",
   "execution_count": null,
   "metadata": {},
   "outputs": [],
   "source": [
    "# dispURL = 'https://data.lacity.org/resource/bunu-zsyc.geojson'\n",
    "# dispDF = pd.read_json(dispURL)\n",
    "\n",
    "# dispDF.head()"
   ]
  },
  {
   "cell_type": "code",
   "execution_count": null,
   "metadata": {},
   "outputs": [],
   "source": [
    "disp_df.reset_index(drop = True, inplace = True)"
   ]
  },
  {
   "cell_type": "code",
   "execution_count": null,
   "metadata": {},
   "outputs": [],
   "source": [
    "disp_df[[\"lat\",\"long\"]] = disp_df.LOCATION.str.split(\",\",expand=True)"
   ]
  },
  {
   "cell_type": "code",
   "execution_count": null,
   "metadata": {},
   "outputs": [],
   "source": [
    "# disp_df.head()"
   ]
  },
  {
   "cell_type": "code",
   "execution_count": null,
   "metadata": {},
   "outputs": [],
   "source": [
    "# ********************DONT RUN MORE THAN ONCE OR YOU WILL NEED TO RESTART KERNAL\n",
    "disp_df[\"lat\"] = disp_df.lat.str.slice(start=1)\n",
    "disp_df[\"lat\"] = pd.to_numeric(disp_df[\"lat\"])"
   ]
  },
  {
   "cell_type": "code",
   "execution_count": null,
   "metadata": {},
   "outputs": [],
   "source": [
    "# ********************DONT RUN MORE THAN ONCE OR YOU WILL NEED TO RESTART KERNAL\n",
    "disp_df[\"long\"] = disp_df.long.str.slice(stop=-1)\n",
    "disp_df[\"long\"] = pd.to_numeric(disp_df[\"long\"])"
   ]
  },
  {
   "cell_type": "code",
   "execution_count": null,
   "metadata": {},
   "outputs": [],
   "source": [
    "# Create a year column so we can filter this in the dashboarc\n",
    "disp_df[\"START YEAR\"] = pd.DatetimeIndex(disp_df[\"LOCATION START DATE\"]).year"
   ]
  },
  {
   "cell_type": "code",
   "execution_count": null,
   "metadata": {},
   "outputs": [],
   "source": [
    "# disp_df.head()"
   ]
  },
  {
   "cell_type": "code",
   "execution_count": null,
   "metadata": {},
   "outputs": [],
   "source": [
    "# disp_df.to_json(r'../JSON Files/DISP.JSON', orient = \"index\")\n",
    "disp_df.dtypes"
   ]
  },
  {
   "cell_type": "code",
   "execution_count": null,
   "metadata": {},
   "outputs": [],
   "source": [
    "def data2geojson(df, filename):\n",
    "    features = []\n",
    "    insert_features = lambda X: features.append(\n",
    "            gj.Feature(geometry=gj.Point((X[\"long\"],\n",
    "                                          X[\"lat\"]\n",
    "#                                           ,X[\"elev\"]\n",
    "                                         )),\n",
    "                            properties=dict(zip_code=X[\"ZIP CODE\"],\n",
    "                                            business_name = X[\"BUSINESS NAME\"],\n",
    "                                            street_address = X[\"STREET ADDRESS\"],\n",
    "                                            location_start_date = X[\"LOCATION START DATE\"],\n",
    "                                            location_start_year = X[\"START YEAR\"])))\n",
    "    df.apply(insert_features, axis=1)\n",
    "    with open(filename, 'w', encoding='utf8') as fp:\n",
    "        gj.dump(gj.FeatureCollection(features), fp, sort_keys=True, ensure_ascii=False)"
   ]
  },
  {
   "cell_type": "code",
   "execution_count": null,
   "metadata": {},
   "outputs": [],
   "source": [
    "data2geojson(disp_df, dispFileName)"
   ]
  },
  {
   "cell_type": "code",
   "execution_count": null,
   "metadata": {},
   "outputs": [],
   "source": []
  }
 ],
 "metadata": {
  "kernelspec": {
   "display_name": "Python 3",
   "language": "python",
   "name": "python3"
  },
  "language_info": {
   "codemirror_mode": {
    "name": "ipython",
    "version": 3
   },
   "file_extension": ".py",
   "mimetype": "text/x-python",
   "name": "python",
   "nbconvert_exporter": "python",
   "pygments_lexer": "ipython3",
   "version": "3.8.5"
  }
 },
 "nbformat": 4,
 "nbformat_minor": 5
}
