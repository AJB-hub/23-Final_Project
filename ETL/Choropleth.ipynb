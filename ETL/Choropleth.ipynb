{
 "cells": [
  {
   "cell_type": "code",
   "execution_count": 1,
   "metadata": {},
   "outputs": [],
   "source": [
    "import pandas as pd\n",
    "import geopandas as gpd\n",
    "import numpy as np\n",
    "import geojson as gj"
   ]
  },
  {
   "cell_type": "code",
   "execution_count": 2,
   "metadata": {},
   "outputs": [],
   "source": [
    "# Create DF for LAPD_Divisions_geojson\n",
    "lapd_file = \"../static/data/LAPD_Divisions.geojson\"\n",
    "lapd_df = gpd.read_file(lapd_file)"
   ]
  },
  {
   "cell_type": "code",
   "execution_count": 3,
   "metadata": {},
   "outputs": [],
   "source": [
    "# lapd_df.head()"
   ]
  },
  {
   "cell_type": "code",
   "execution_count": 4,
   "metadata": {},
   "outputs": [],
   "source": [
    "# Load json to dataframe\n",
    "year = [2013,2014,2015,2016,2017,2018,2019]\n",
    "\n",
    "yearArea_df = pd.DataFrame(columns = ['Year', 'LAPD_Area', 'Crime_Counts'])\n",
    "\n",
    "# Loop through each year and append to a single dataframe\n",
    "\n",
    "for y in year:\n",
    "    crime_year = f\"crime_{y}\"\n",
    "    file_to_load = f'../static/data/source/{crime_year}.json'\n",
    "    \n",
    "    crime_df = pd.read_json(file_to_load).T\n",
    "\n",
    "    # Aggregate by Year and Area\n",
    "    grouped_df = crime_df.groupby(['Year','LAPD_Area']).agg({'Crime_Type':['count']}) \n",
    "    grouped_df.columns = ['Crime_Counts'] \n",
    "    grouped_df.reset_index(level=['Year','LAPD_Area'],inplace=True)\n",
    "    yearArea_df = yearArea_df.append(grouped_df, ignore_index = True)\n",
    "    "
   ]
  },
  {
   "cell_type": "code",
   "execution_count": 5,
   "metadata": {},
   "outputs": [],
   "source": [
    "# yearArea_df.head()"
   ]
  },
  {
   "cell_type": "code",
   "execution_count": 6,
   "metadata": {},
   "outputs": [],
   "source": [
    "# Join grouped_df (crime) with LAPD_divsions - join by area\n",
    "final_df = yearArea_df.merge(lapd_df, left_on='LAPD_Area', right_on='PREC')\n",
    "# final_df.head(100)"
   ]
  },
  {
   "cell_type": "code",
   "execution_count": 7,
   "metadata": {},
   "outputs": [],
   "source": [
    "# create function to output a geojson format\n",
    "def data2geojson(df, filename):\n",
    "    features = []\n",
    "    insert_features = lambda X: features.append(\n",
    "            gj.Feature(geometry=X[\"geometry\"],\n",
    "                       #gj.Point((X[\"LON\"],X[\"LAT\"])),  ## old code and no longer needed\n",
    "                            properties=dict(crime_counts=X[\"Crime_Counts\"]\n",
    "                                           ,year=X[\"Year\"])))\n",
    "    df.apply(insert_features, axis=1)\n",
    "    with open(filename, 'w', encoding='utf8') as fp:\n",
    "        gj.dump(gj.FeatureCollection(features), fp, sort_keys=True, ensure_ascii=False)"
   ]
  },
  {
   "cell_type": "code",
   "execution_count": 8,
   "metadata": {},
   "outputs": [],
   "source": [
    "# Create final crime GeoJson\n",
    "outputFilePath = '../static/data/'\n",
    "outputFileName = 'crime'\n",
    "dispFileName = f'{outputFilePath}{outputFileName}.geojson'\n",
    "\n",
    "data2geojson(final_df, dispFileName)"
   ]
  }
 ],
 "metadata": {
  "kernelspec": {
   "display_name": "Python 3",
   "language": "python",
   "name": "python3"
  },
  "language_info": {
   "codemirror_mode": {
    "name": "ipython",
    "version": 3
   },
   "file_extension": ".py",
   "mimetype": "text/x-python",
   "name": "python",
   "nbconvert_exporter": "python",
   "pygments_lexer": "ipython3",
   "version": "3.8.5"
  }
 },
 "nbformat": 4,
 "nbformat_minor": 5
}
