{
 "cells": [
  {
   "cell_type": "markdown",
   "id": "61bd6b2c",
   "metadata": {
    "slideshow": {
     "slide_type": "slide"
    }
   },
   "source": [
    "## Support Vector Regression\n"
   ]
  },
  {
   "cell_type": "markdown",
   "id": "7f68df83",
   "metadata": {
    "slideshow": {
     "slide_type": "subslide"
    }
   },
   "source": [
    "Libraries Used\n",
    "* Sklearn: https://scikit-learn.org/stable/modules/svm.html#svm-regression\n",
    "* Numpy:  https://numpy.org/doc/stable/\n",
    "* Pandas: https://pandas.pydata.org/docs/user_guide/index.html"
   ]
  },
  {
   "cell_type": "code",
   "execution_count": 10,
   "id": "b7ed55c1-3c1c-44a4-a717-9377596d8912",
   "metadata": {
    "slideshow": {
     "slide_type": "fragment"
    }
   },
   "outputs": [],
   "source": [
    "from sklearn import svm\n",
    "import pandas as pd\n",
    "import numpy as np\n",
    "from sklearn.preprocessing import StandardScaler\n",
    "from sklearn.model_selection import GridSearchCV\n",
    "import warnings\n",
    "warnings.filterwarnings('ignore')"
   ]
  },
  {
   "cell_type": "markdown",
   "id": "db9d614f-4573-4a03-bc55-d5a3f25346c3",
   "metadata": {
    "slideshow": {
     "slide_type": "slide"
    }
   },
   "source": [
    "### Data Import "
   ]
  },
  {
   "cell_type": "code",
   "execution_count": 11,
   "id": "9e8a1b3f",
   "metadata": {
    "slideshow": {
     "slide_type": "subslide"
    }
   },
   "outputs": [],
   "source": [
    "#Import Census data from previous notebook\n",
    "zipCSVPath = '../../data/Zip_Code_Data.csv'\n",
    "zipDF = pd.read_csv(zipCSVPath)\n",
    "zipDF['Zip'] = zipDF['Zip'].astype(str)\n",
    "laDF = zipDF[(zipDF.City==\"Los Angeles\")]\n",
    "laDFTarget = laDF[['Zip',\n",
    "                    'Total_Pop',\n",
    "                   'Percent_21_and_Older',\n",
    "                   'Percent_60_and_Older',\n",
    "                   'Percent_Male',\n",
    "                   'Pct_Owner_Occupied',\n",
    "                   'Pct_Renter_Occupied'\n",
    "                  ]]"
   ]
  },
  {
   "cell_type": "code",
   "execution_count": 12,
   "id": "32ab4861",
   "metadata": {
    "slideshow": {
     "slide_type": "fragment"
    }
   },
   "outputs": [],
   "source": [
    "#Import Dispensary data from previous notebook\n",
    "la_data = pd.read_csv('../../data/la_combined.csv').drop(columns='Unnamed: 0')\n",
    "la_data['Zip'] = la_data['Zip'].astype(str)\n"
   ]
  },
  {
   "cell_type": "code",
   "execution_count": 13,
   "id": "fbf37399",
   "metadata": {
    "slideshow": {
     "slide_type": "fragment"
    }
   },
   "outputs": [],
   "source": [
    "#Merge data by zip code\n",
    "la_data = la_data.merge(laDFTarget)"
   ]
  },
  {
   "cell_type": "code",
   "execution_count": 31,
   "id": "12af801d-8ecc-4135-b591-8f0275f6c355",
   "metadata": {
    "slideshow": {
     "slide_type": "subslide"
    }
   },
   "outputs": [],
   "source": [
    "#Split Data to test model\n",
    "la_data_model = la_data.iloc[:103,:]\n",
    "la_data_test = la_data.iloc[-20:,:]"
   ]
  },
  {
   "cell_type": "code",
   "execution_count": 33,
   "id": "7ce7d332",
   "metadata": {
    "slideshow": {
     "slide_type": "fragment"
    }
   },
   "outputs": [
    {
     "data": {
      "text/html": [
       "<div>\n",
       "<style scoped>\n",
       "    .dataframe tbody tr th:only-of-type {\n",
       "        vertical-align: middle;\n",
       "    }\n",
       "\n",
       "    .dataframe tbody tr th {\n",
       "        vertical-align: top;\n",
       "    }\n",
       "\n",
       "    .dataframe thead th {\n",
       "        text-align: right;\n",
       "    }\n",
       "</style>\n",
       "<table border=\"1\" class=\"dataframe\">\n",
       "  <thead>\n",
       "    <tr style=\"text-align: right;\">\n",
       "      <th></th>\n",
       "      <th>Zip</th>\n",
       "      <th>Cluster_Labels</th>\n",
       "      <th>LAT</th>\n",
       "      <th>LNG</th>\n",
       "      <th>Num_Disp</th>\n",
       "      <th>Total_Households</th>\n",
       "      <th>Household_Median_Income</th>\n",
       "      <th>Total_Pop</th>\n",
       "      <th>Percent_21_and_Older</th>\n",
       "      <th>Percent_60_and_Older</th>\n",
       "      <th>Percent_Male</th>\n",
       "      <th>Pct_Owner_Occupied</th>\n",
       "      <th>Pct_Renter_Occupied</th>\n",
       "    </tr>\n",
       "  </thead>\n",
       "  <tbody>\n",
       "    <tr>\n",
       "      <th>0</th>\n",
       "      <td>90001</td>\n",
       "      <td>2</td>\n",
       "      <td>33.973274</td>\n",
       "      <td>-118.248970</td>\n",
       "      <td>7</td>\n",
       "      <td>13669</td>\n",
       "      <td>43360</td>\n",
       "      <td>59832</td>\n",
       "      <td>63.3</td>\n",
       "      <td>10.9</td>\n",
       "      <td>51.7</td>\n",
       "      <td>35.9</td>\n",
       "      <td>64.1</td>\n",
       "    </tr>\n",
       "    <tr>\n",
       "      <th>1</th>\n",
       "      <td>90002</td>\n",
       "      <td>2</td>\n",
       "      <td>33.948951</td>\n",
       "      <td>-118.246980</td>\n",
       "      <td>1</td>\n",
       "      <td>12917</td>\n",
       "      <td>37285</td>\n",
       "      <td>53302</td>\n",
       "      <td>62.8</td>\n",
       "      <td>10.4</td>\n",
       "      <td>47.7</td>\n",
       "      <td>35.0</td>\n",
       "      <td>65.0</td>\n",
       "    </tr>\n",
       "    <tr>\n",
       "      <th>2</th>\n",
       "      <td>90003</td>\n",
       "      <td>2</td>\n",
       "      <td>33.963350</td>\n",
       "      <td>-118.273936</td>\n",
       "      <td>1</td>\n",
       "      <td>17484</td>\n",
       "      <td>40598</td>\n",
       "      <td>73730</td>\n",
       "      <td>63.0</td>\n",
       "      <td>10.0</td>\n",
       "      <td>49.0</td>\n",
       "      <td>28.3</td>\n",
       "      <td>71.7</td>\n",
       "    </tr>\n",
       "    <tr>\n",
       "      <th>3</th>\n",
       "      <td>90004</td>\n",
       "      <td>2</td>\n",
       "      <td>34.075721</td>\n",
       "      <td>-118.303017</td>\n",
       "      <td>1</td>\n",
       "      <td>22004</td>\n",
       "      <td>49675</td>\n",
       "      <td>60541</td>\n",
       "      <td>77.5</td>\n",
       "      <td>15.8</td>\n",
       "      <td>49.3</td>\n",
       "      <td>16.6</td>\n",
       "      <td>83.4</td>\n",
       "    </tr>\n",
       "    <tr>\n",
       "      <th>4</th>\n",
       "      <td>90005</td>\n",
       "      <td>3</td>\n",
       "      <td>34.059071</td>\n",
       "      <td>-118.303017</td>\n",
       "      <td>0</td>\n",
       "      <td>16781</td>\n",
       "      <td>38491</td>\n",
       "      <td>39732</td>\n",
       "      <td>78.6</td>\n",
       "      <td>16.8</td>\n",
       "      <td>50.4</td>\n",
       "      <td>7.7</td>\n",
       "      <td>92.3</td>\n",
       "    </tr>\n",
       "    <tr>\n",
       "      <th>5</th>\n",
       "      <td>90006</td>\n",
       "      <td>2</td>\n",
       "      <td>34.050102</td>\n",
       "      <td>-118.292689</td>\n",
       "      <td>0</td>\n",
       "      <td>19337</td>\n",
       "      <td>37072</td>\n",
       "      <td>59576</td>\n",
       "      <td>74.0</td>\n",
       "      <td>15.6</td>\n",
       "      <td>49.5</td>\n",
       "      <td>9.0</td>\n",
       "      <td>91.0</td>\n",
       "    </tr>\n",
       "    <tr>\n",
       "      <th>6</th>\n",
       "      <td>90007</td>\n",
       "      <td>3</td>\n",
       "      <td>34.028334</td>\n",
       "      <td>-118.285077</td>\n",
       "      <td>4</td>\n",
       "      <td>11919</td>\n",
       "      <td>27406</td>\n",
       "      <td>42433</td>\n",
       "      <td>69.4</td>\n",
       "      <td>10.8</td>\n",
       "      <td>51.6</td>\n",
       "      <td>12.3</td>\n",
       "      <td>87.7</td>\n",
       "    </tr>\n",
       "    <tr>\n",
       "      <th>7</th>\n",
       "      <td>90008</td>\n",
       "      <td>2</td>\n",
       "      <td>34.010971</td>\n",
       "      <td>-118.341588</td>\n",
       "      <td>0</td>\n",
       "      <td>14858</td>\n",
       "      <td>43364</td>\n",
       "      <td>31754</td>\n",
       "      <td>80.6</td>\n",
       "      <td>24.8</td>\n",
       "      <td>43.8</td>\n",
       "      <td>33.0</td>\n",
       "      <td>67.0</td>\n",
       "    </tr>\n",
       "    <tr>\n",
       "      <th>8</th>\n",
       "      <td>90010</td>\n",
       "      <td>2</td>\n",
       "      <td>34.061391</td>\n",
       "      <td>-118.309700</td>\n",
       "      <td>0</td>\n",
       "      <td>2029</td>\n",
       "      <td>63112</td>\n",
       "      <td>3822</td>\n",
       "      <td>86.8</td>\n",
       "      <td>23.8</td>\n",
       "      <td>47.7</td>\n",
       "      <td>17.6</td>\n",
       "      <td>82.4</td>\n",
       "    </tr>\n",
       "    <tr>\n",
       "      <th>9</th>\n",
       "      <td>90011</td>\n",
       "      <td>2</td>\n",
       "      <td>34.007904</td>\n",
       "      <td>-118.259037</td>\n",
       "      <td>4</td>\n",
       "      <td>24433</td>\n",
       "      <td>40940</td>\n",
       "      <td>111165</td>\n",
       "      <td>63.7</td>\n",
       "      <td>9.8</td>\n",
       "      <td>50.6</td>\n",
       "      <td>26.0</td>\n",
       "      <td>74.0</td>\n",
       "    </tr>\n",
       "  </tbody>\n",
       "</table>\n",
       "</div>"
      ],
      "text/plain": [
       "     Zip  Cluster_Labels        LAT         LNG  Num_Disp  Total_Households  \\\n",
       "0  90001               2  33.973274 -118.248970         7             13669   \n",
       "1  90002               2  33.948951 -118.246980         1             12917   \n",
       "2  90003               2  33.963350 -118.273936         1             17484   \n",
       "3  90004               2  34.075721 -118.303017         1             22004   \n",
       "4  90005               3  34.059071 -118.303017         0             16781   \n",
       "5  90006               2  34.050102 -118.292689         0             19337   \n",
       "6  90007               3  34.028334 -118.285077         4             11919   \n",
       "7  90008               2  34.010971 -118.341588         0             14858   \n",
       "8  90010               2  34.061391 -118.309700         0              2029   \n",
       "9  90011               2  34.007904 -118.259037         4             24433   \n",
       "\n",
       "   Household_Median_Income  Total_Pop  Percent_21_and_Older  \\\n",
       "0                    43360      59832                  63.3   \n",
       "1                    37285      53302                  62.8   \n",
       "2                    40598      73730                  63.0   \n",
       "3                    49675      60541                  77.5   \n",
       "4                    38491      39732                  78.6   \n",
       "5                    37072      59576                  74.0   \n",
       "6                    27406      42433                  69.4   \n",
       "7                    43364      31754                  80.6   \n",
       "8                    63112       3822                  86.8   \n",
       "9                    40940     111165                  63.7   \n",
       "\n",
       "   Percent_60_and_Older  Percent_Male  Pct_Owner_Occupied  Pct_Renter_Occupied  \n",
       "0                  10.9          51.7                35.9                 64.1  \n",
       "1                  10.4          47.7                35.0                 65.0  \n",
       "2                  10.0          49.0                28.3                 71.7  \n",
       "3                  15.8          49.3                16.6                 83.4  \n",
       "4                  16.8          50.4                 7.7                 92.3  \n",
       "5                  15.6          49.5                 9.0                 91.0  \n",
       "6                  10.8          51.6                12.3                 87.7  \n",
       "7                  24.8          43.8                33.0                 67.0  \n",
       "8                  23.8          47.7                17.6                 82.4  \n",
       "9                   9.8          50.6                26.0                 74.0  "
      ]
     },
     "execution_count": 33,
     "metadata": {},
     "output_type": "execute_result"
    }
   ],
   "source": [
    "la_data_model.head(10)"
   ]
  },
  {
   "cell_type": "markdown",
   "id": "c282d319-0697-47fc-8627-12dcb6b8595c",
   "metadata": {
    "slideshow": {
     "slide_type": "slide"
    }
   },
   "source": [
    "### Scale Data"
   ]
  },
  {
   "cell_type": "code",
   "execution_count": 36,
   "id": "94d4872d-f063-4972-b0ed-28c4856c9a1a",
   "metadata": {
    "slideshow": {
     "slide_type": "subslide"
    }
   },
   "outputs": [],
   "source": [
    "#numpyify model data set domain and range data\n",
    "X = la_data_model[['Total_Pop',\n",
    "                   'Total_Households', \n",
    "                   'Household_Median_Income',\n",
    "                   'Percent_21_and_Older',\n",
    "                   'Percent_60_and_Older',\n",
    "                   'Percent_Male',\n",
    "                   'Pct_Owner_Occupied',\n",
    "                   'Pct_Renter_Occupied']].to_numpy()\n",
    "y = la_data_model['Num_Disp'].to_numpy().reshape((-1,1))"
   ]
  },
  {
   "cell_type": "code",
   "execution_count": 37,
   "id": "4e550aba",
   "metadata": {
    "slideshow": {
     "slide_type": "fragment"
    }
   },
   "outputs": [],
   "source": [
    "#numpyify test data set domain and range data\n",
    "X_test = la_data_test[['Total_Pop',\n",
    "                   'Total_Households', \n",
    "                   'Household_Median_Income',\n",
    "                   'Percent_21_and_Older',\n",
    "                   'Percent_60_and_Older',\n",
    "                   'Percent_Male',\n",
    "                   'Pct_Owner_Occupied',\n",
    "                   'Pct_Renter_Occupied']].to_numpy()\n",
    "y_test = la_data_test['Num_Disp'].to_numpy().reshape((-1,1))\n"
   ]
  },
  {
   "cell_type": "code",
   "execution_count": 38,
   "id": "bffc4346-404f-42a3-b20d-f8172dc3fddd",
   "metadata": {
    "slideshow": {
     "slide_type": "subslide"
    }
   },
   "outputs": [],
   "source": [
    "#Create Scalers\n",
    "sc_X = StandardScaler()\n",
    "sc_y = StandardScaler()"
   ]
  },
  {
   "cell_type": "code",
   "execution_count": 39,
   "id": "aed28024",
   "metadata": {
    "slideshow": {
     "slide_type": "fragment"
    }
   },
   "outputs": [],
   "source": [
    "#Scale domain and range data for model\n",
    "X = sc_X.fit_transform(X)\n",
    "y = sc_y.fit_transform(y).ravel()"
   ]
  },
  {
   "cell_type": "code",
   "execution_count": 40,
   "id": "bae8d3c7-8717-4ba6-848e-34845e85ce35",
   "metadata": {
    "slideshow": {
     "slide_type": "fragment"
    }
   },
   "outputs": [],
   "source": [
    "#Scale domain and range data for test\n",
    "X_test = sc_X.fit_transform(X_test)\n",
    "y_test = sc_y.fit_transform(y_test).ravel()"
   ]
  },
  {
   "cell_type": "markdown",
   "id": "22474be2-f6f6-460c-9da7-d849742e21b2",
   "metadata": {
    "slideshow": {
     "slide_type": "slide"
    }
   },
   "source": [
    "### Grid Search to find optimal parameters for model"
   ]
  },
  {
   "cell_type": "code",
   "execution_count": 41,
   "id": "8256bc9a-ddd9-40de-825f-ab1fb13b6f54",
   "metadata": {
    "slideshow": {
     "slide_type": "subslide"
    }
   },
   "outputs": [
    {
     "data": {
      "text/plain": [
       "{'C': 0.5, 'epsilon': 0.1, 'kernel': 'rbf'}"
      ]
     },
     "execution_count": 41,
     "metadata": {},
     "output_type": "execute_result"
    }
   ],
   "source": [
    "# Use grid Search to find the best parameters for the data\n",
    "\n",
    "#Establish parameters\n",
    "parameters = {'kernel':('linear', 'poly', 'rbf', 'sigmoid'),'C':[0.5,1,5,10,50],'epsilon':[0.01,0.1,0.5,1,5,10,50]}\n",
    "\n",
    "#create model\n",
    "regr = svm.SVR()\n",
    "clf = GridSearchCV(regr, parameters)\n",
    "\n",
    "#Fit model with data\n",
    "clf.fit(X,y)\n",
    "\n",
    "#Read out best parameters by gridsearch\n",
    "clf.best_params_"
   ]
  },
  {
   "cell_type": "code",
   "execution_count": 42,
   "id": "ed5f7ee9-7643-43f8-8122-831f05e6d09a",
   "metadata": {
    "slideshow": {
     "slide_type": "fragment"
    }
   },
   "outputs": [
    {
     "data": {
      "text/plain": [
       "SVR(C=0.5)"
      ]
     },
     "execution_count": 42,
     "metadata": {},
     "output_type": "execute_result"
    }
   ],
   "source": [
    "#Create a model with grid search parameters\n",
    "regr = svm.SVR(**clf.best_params_)\n",
    "regr.fit(X,y)"
   ]
  },
  {
   "cell_type": "markdown",
   "id": "5abb3f93-2465-4a02-b846-d6a707bf7276",
   "metadata": {
    "slideshow": {
     "slide_type": "slide"
    }
   },
   "source": [
    "### Testing the Model\n"
   ]
  },
  {
   "cell_type": "code",
   "execution_count": 44,
   "id": "6113b155-dead-4eec-8627-ec0ce867fdc8",
   "metadata": {
    "slideshow": {
     "slide_type": "subslide"
    }
   },
   "outputs": [],
   "source": [
    "#Percent difference function\n",
    "def percentDiff(current, previous):\n",
    "    if current == previous:\n",
    "        return 100.0\n",
    "    try:\n",
    "        return (abs(current - previous) / previous) * 100.0\n",
    "    except ZeroDivisionError:\n",
    "        return 0"
   ]
  },
  {
   "cell_type": "code",
   "execution_count": 45,
   "id": "844eafe4-43de-4f09-97bf-f1b65da8acec",
   "metadata": {
    "slideshow": {
     "slide_type": "subslide"
    }
   },
   "outputs": [],
   "source": [
    "# Predict Values from model\n",
    "y_pred = regr.predict(X_test)"
   ]
  },
  {
   "cell_type": "code",
   "execution_count": 46,
   "id": "091d30f4",
   "metadata": {
    "slideshow": {
     "slide_type": "fragment"
    }
   },
   "outputs": [],
   "source": [
    "#Reshape data for function load\n",
    "y_pred = list(sc_y.inverse_transform(y_pred))\n",
    "y_test = la_data_test['Num_Disp']\n",
    "y_zip = list(zip(y_pred,y_test))"
   ]
  },
  {
   "cell_type": "code",
   "execution_count": 47,
   "id": "28932fa9",
   "metadata": {
    "slideshow": {
     "slide_type": "fragment"
    }
   },
   "outputs": [],
   "source": [
    "#Add data to dataframe\n",
    "la_data_test['Predicted_Value'] = y_pred\n",
    "\n",
    "la_data_test['Percent_Difference'] = [percentDiff(y_zip[i][1],y_zip[i][0]) for i,e in enumerate(y_zip)]"
   ]
  },
  {
   "cell_type": "code",
   "execution_count": 50,
   "id": "dce9e780-2b20-4aad-af94-f259070004c4",
   "metadata": {
    "slideshow": {
     "slide_type": "subslide"
    }
   },
   "outputs": [
    {
     "data": {
      "text/html": [
       "<div>\n",
       "<style scoped>\n",
       "    .dataframe tbody tr th:only-of-type {\n",
       "        vertical-align: middle;\n",
       "    }\n",
       "\n",
       "    .dataframe tbody tr th {\n",
       "        vertical-align: top;\n",
       "    }\n",
       "\n",
       "    .dataframe thead th {\n",
       "        text-align: right;\n",
       "    }\n",
       "</style>\n",
       "<table border=\"1\" class=\"dataframe\">\n",
       "  <thead>\n",
       "    <tr style=\"text-align: right;\">\n",
       "      <th></th>\n",
       "      <th>Zip</th>\n",
       "      <th>Num_Disp</th>\n",
       "      <th>Predicted_Value</th>\n",
       "      <th>Percent_Difference</th>\n",
       "    </tr>\n",
       "  </thead>\n",
       "  <tbody>\n",
       "    <tr>\n",
       "      <th>103</th>\n",
       "      <td>91352</td>\n",
       "      <td>26</td>\n",
       "      <td>5.087365</td>\n",
       "      <td>411.070077</td>\n",
       "    </tr>\n",
       "    <tr>\n",
       "      <th>104</th>\n",
       "      <td>91356</td>\n",
       "      <td>3</td>\n",
       "      <td>3.623057</td>\n",
       "      <td>17.196990</td>\n",
       "    </tr>\n",
       "    <tr>\n",
       "      <th>105</th>\n",
       "      <td>91364</td>\n",
       "      <td>4</td>\n",
       "      <td>3.415476</td>\n",
       "      <td>17.113995</td>\n",
       "    </tr>\n",
       "    <tr>\n",
       "      <th>106</th>\n",
       "      <td>91367</td>\n",
       "      <td>3</td>\n",
       "      <td>5.242073</td>\n",
       "      <td>42.770729</td>\n",
       "    </tr>\n",
       "    <tr>\n",
       "      <th>107</th>\n",
       "      <td>91401</td>\n",
       "      <td>3</td>\n",
       "      <td>4.245392</td>\n",
       "      <td>29.335153</td>\n",
       "    </tr>\n",
       "    <tr>\n",
       "      <th>108</th>\n",
       "      <td>91402</td>\n",
       "      <td>4</td>\n",
       "      <td>5.907136</td>\n",
       "      <td>32.285295</td>\n",
       "    </tr>\n",
       "    <tr>\n",
       "      <th>109</th>\n",
       "      <td>91403</td>\n",
       "      <td>2</td>\n",
       "      <td>4.901016</td>\n",
       "      <td>59.192135</td>\n",
       "    </tr>\n",
       "    <tr>\n",
       "      <th>110</th>\n",
       "      <td>91405</td>\n",
       "      <td>6</td>\n",
       "      <td>3.679273</td>\n",
       "      <td>63.075713</td>\n",
       "    </tr>\n",
       "    <tr>\n",
       "      <th>111</th>\n",
       "      <td>91406</td>\n",
       "      <td>16</td>\n",
       "      <td>6.160512</td>\n",
       "      <td>159.718665</td>\n",
       "    </tr>\n",
       "    <tr>\n",
       "      <th>112</th>\n",
       "      <td>91411</td>\n",
       "      <td>9</td>\n",
       "      <td>6.661236</td>\n",
       "      <td>35.110060</td>\n",
       "    </tr>\n",
       "    <tr>\n",
       "      <th>113</th>\n",
       "      <td>91423</td>\n",
       "      <td>2</td>\n",
       "      <td>5.335432</td>\n",
       "      <td>62.514749</td>\n",
       "    </tr>\n",
       "    <tr>\n",
       "      <th>117</th>\n",
       "      <td>91601</td>\n",
       "      <td>8</td>\n",
       "      <td>4.185934</td>\n",
       "      <td>91.116252</td>\n",
       "    </tr>\n",
       "    <tr>\n",
       "      <th>118</th>\n",
       "      <td>91602</td>\n",
       "      <td>4</td>\n",
       "      <td>4.623789</td>\n",
       "      <td>13.490867</td>\n",
       "    </tr>\n",
       "    <tr>\n",
       "      <th>119</th>\n",
       "      <td>91604</td>\n",
       "      <td>8</td>\n",
       "      <td>5.563039</td>\n",
       "      <td>43.806291</td>\n",
       "    </tr>\n",
       "    <tr>\n",
       "      <th>120</th>\n",
       "      <td>91605</td>\n",
       "      <td>23</td>\n",
       "      <td>5.579802</td>\n",
       "      <td>312.200971</td>\n",
       "    </tr>\n",
       "    <tr>\n",
       "      <th>122</th>\n",
       "      <td>91607</td>\n",
       "      <td>1</td>\n",
       "      <td>3.691204</td>\n",
       "      <td>72.908568</td>\n",
       "    </tr>\n",
       "  </tbody>\n",
       "</table>\n",
       "</div>"
      ],
      "text/plain": [
       "       Zip  Num_Disp  Predicted_Value  Percent_Difference\n",
       "103  91352        26         5.087365          411.070077\n",
       "104  91356         3         3.623057           17.196990\n",
       "105  91364         4         3.415476           17.113995\n",
       "106  91367         3         5.242073           42.770729\n",
       "107  91401         3         4.245392           29.335153\n",
       "108  91402         4         5.907136           32.285295\n",
       "109  91403         2         4.901016           59.192135\n",
       "110  91405         6         3.679273           63.075713\n",
       "111  91406        16         6.160512          159.718665\n",
       "112  91411         9         6.661236           35.110060\n",
       "113  91423         2         5.335432           62.514749\n",
       "117  91601         8         4.185934           91.116252\n",
       "118  91602         4         4.623789           13.490867\n",
       "119  91604         8         5.563039           43.806291\n",
       "120  91605        23         5.579802          312.200971\n",
       "122  91607         1         3.691204           72.908568"
      ]
     },
     "execution_count": 50,
     "metadata": {},
     "output_type": "execute_result"
    }
   ],
   "source": [
    "#Display Number of Dispensaries with model predicted number \n",
    "la_data_test[la_data_test['Num_Disp'] != 0][['Zip','Num_Disp','Predicted_Value','Percent_Difference']]"
   ]
  },
  {
   "cell_type": "markdown",
   "id": "d7e4f7ec-a3a2-42ba-807d-828a736dfa38",
   "metadata": {
    "slideshow": {
     "slide_type": "slide"
    }
   },
   "source": [
    "## Sacramento Data Analysis"
   ]
  },
  {
   "cell_type": "markdown",
   "id": "8b5b6987",
   "metadata": {
    "slideshow": {
     "slide_type": "fragment"
    }
   },
   "source": [
    "<img width=50% src=\"https://www.terracon.com/offices/sacramento/2021-siterework-office-sacramento/\">"
   ]
  },
  {
   "cell_type": "code",
   "execution_count": 51,
   "id": "372191ca-49c6-4a54-bf71-1fe9c48acb15",
   "metadata": {
    "slideshow": {
     "slide_type": "subslide"
    }
   },
   "outputs": [],
   "source": [
    "#Load Data from previous notebook\n",
    "sacDF = zipDF[zipDF.City==\"Sacramento\"]\n",
    "sacDFTarget = sacDF[['Zip', \n",
    "                   'LAT', \n",
    "                   'LNG', \n",
    "                   \"Num_Disp\",\n",
    "                   'Total_Pop',\n",
    "                   'Total_Households', \n",
    "                   'Household_Median_Income',\n",
    "                   'Percent_21_and_Older',\n",
    "                   'Percent_60_and_Older',\n",
    "                   'Percent_Male',\n",
    "                   'Pct_Owner_Occupied',\n",
    "                   'Pct_Renter_Occupied'\n",
    "                  ]]\n",
    "sacDFTarget['Zip'] = sacDFTarget['Zip'].astype(str)"
   ]
  },
  {
   "cell_type": "code",
   "execution_count": 52,
   "id": "66f727be-2217-487c-a2de-b8203622091d",
   "metadata": {
    "slideshow": {
     "slide_type": "fragment"
    }
   },
   "outputs": [],
   "source": [
    "#Scale City data with StandardScaler\n",
    "X2_actual = sacDFTarget[['Total_Pop',\n",
    "                   'Total_Households', \n",
    "                   'Household_Median_Income',\n",
    "                   'Percent_21_and_Older',\n",
    "                   'Percent_60_and_Older',\n",
    "                   'Percent_Male',\n",
    "                   'Pct_Owner_Occupied',\n",
    "                   'Pct_Renter_Occupied']].to_numpy()\n",
    "\n",
    "X2_actual = sc_X.fit_transform(X2_actual)\n"
   ]
  },
  {
   "cell_type": "code",
   "execution_count": 53,
   "id": "12162cfa-59ae-4b55-a01f-fea9a86c1228",
   "metadata": {
    "slideshow": {
     "slide_type": "subslide"
    }
   },
   "outputs": [],
   "source": [
    "#Create a prediction using new data and our previous model\n",
    "y2_pred = regr.predict(X2_actual)"
   ]
  },
  {
   "cell_type": "code",
   "execution_count": 54,
   "id": "456e01ae-2a30-41d5-a528-8690e0548518",
   "metadata": {
    "slideshow": {
     "slide_type": "fragment"
    }
   },
   "outputs": [],
   "source": [
    "#transform data to original scale, store in list of tuples\n",
    "y2_pred = list(sc_y.inverse_transform(y2_pred))\n",
    "y2_actual = sacDFTarget['Num_Disp']\n",
    "y2_zip = list(zip(y2_pred,y2_actual))"
   ]
  },
  {
   "cell_type": "code",
   "execution_count": 55,
   "id": "c65f1053",
   "metadata": {
    "slideshow": {
     "slide_type": "fragment"
    }
   },
   "outputs": [],
   "source": [
    "#Add to dataframe\n",
    "sacDFTarget['Predicted_Value'] = y2_pred\n",
    "sacDFTarget['Percent_Difference'] = [percentDiff(y2_zip[i][1],y2_zip[i][0]) for i,e in enumerate(y2_zip)]"
   ]
  },
  {
   "cell_type": "code",
   "execution_count": 58,
   "id": "0dd0bce3",
   "metadata": {
    "slideshow": {
     "slide_type": "subslide"
    }
   },
   "outputs": [
    {
     "data": {
      "text/html": [
       "<div>\n",
       "<style scoped>\n",
       "    .dataframe tbody tr th:only-of-type {\n",
       "        vertical-align: middle;\n",
       "    }\n",
       "\n",
       "    .dataframe tbody tr th {\n",
       "        vertical-align: top;\n",
       "    }\n",
       "\n",
       "    .dataframe thead th {\n",
       "        text-align: right;\n",
       "    }\n",
       "</style>\n",
       "<table border=\"1\" class=\"dataframe\">\n",
       "  <thead>\n",
       "    <tr style=\"text-align: right;\">\n",
       "      <th></th>\n",
       "      <th>Zip</th>\n",
       "      <th>Num_Disp</th>\n",
       "      <th>Predicted_Value</th>\n",
       "      <th>Percent_Difference</th>\n",
       "    </tr>\n",
       "  </thead>\n",
       "  <tbody>\n",
       "    <tr>\n",
       "      <th>123</th>\n",
       "      <td>95814</td>\n",
       "      <td>1.0</td>\n",
       "      <td>5.593368</td>\n",
       "      <td>82.121685</td>\n",
       "    </tr>\n",
       "    <tr>\n",
       "      <th>124</th>\n",
       "      <td>95815</td>\n",
       "      <td>4.0</td>\n",
       "      <td>6.391143</td>\n",
       "      <td>37.413387</td>\n",
       "    </tr>\n",
       "    <tr>\n",
       "      <th>128</th>\n",
       "      <td>95838</td>\n",
       "      <td>2.0</td>\n",
       "      <td>5.722382</td>\n",
       "      <td>65.049518</td>\n",
       "    </tr>\n",
       "    <tr>\n",
       "      <th>129</th>\n",
       "      <td>95817</td>\n",
       "      <td>2.0</td>\n",
       "      <td>3.427095</td>\n",
       "      <td>41.641530</td>\n",
       "    </tr>\n",
       "    <tr>\n",
       "      <th>130</th>\n",
       "      <td>95820</td>\n",
       "      <td>2.0</td>\n",
       "      <td>5.509989</td>\n",
       "      <td>63.702288</td>\n",
       "    </tr>\n",
       "    <tr>\n",
       "      <th>131</th>\n",
       "      <td>95828</td>\n",
       "      <td>4.0</td>\n",
       "      <td>7.688830</td>\n",
       "      <td>47.976483</td>\n",
       "    </tr>\n",
       "    <tr>\n",
       "      <th>132</th>\n",
       "      <td>95616</td>\n",
       "      <td>1.0</td>\n",
       "      <td>4.826902</td>\n",
       "      <td>79.282776</td>\n",
       "    </tr>\n",
       "    <tr>\n",
       "      <th>133</th>\n",
       "      <td>95822</td>\n",
       "      <td>2.0</td>\n",
       "      <td>5.961569</td>\n",
       "      <td>66.451787</td>\n",
       "    </tr>\n",
       "    <tr>\n",
       "      <th>134</th>\n",
       "      <td>95811</td>\n",
       "      <td>3.0</td>\n",
       "      <td>5.888622</td>\n",
       "      <td>49.054293</td>\n",
       "    </tr>\n",
       "    <tr>\n",
       "      <th>135</th>\n",
       "      <td>95833</td>\n",
       "      <td>1.0</td>\n",
       "      <td>6.359241</td>\n",
       "      <td>84.274853</td>\n",
       "    </tr>\n",
       "    <tr>\n",
       "      <th>136</th>\n",
       "      <td>95826</td>\n",
       "      <td>4.0</td>\n",
       "      <td>6.078265</td>\n",
       "      <td>34.191749</td>\n",
       "    </tr>\n",
       "    <tr>\n",
       "      <th>138</th>\n",
       "      <td>95816</td>\n",
       "      <td>2.0</td>\n",
       "      <td>4.960648</td>\n",
       "      <td>59.682687</td>\n",
       "    </tr>\n",
       "    <tr>\n",
       "      <th>140</th>\n",
       "      <td>95818</td>\n",
       "      <td>1.0</td>\n",
       "      <td>2.965908</td>\n",
       "      <td>66.283513</td>\n",
       "    </tr>\n",
       "  </tbody>\n",
       "</table>\n",
       "</div>"
      ],
      "text/plain": [
       "       Zip  Num_Disp  Predicted_Value  Percent_Difference\n",
       "123  95814       1.0         5.593368           82.121685\n",
       "124  95815       4.0         6.391143           37.413387\n",
       "128  95838       2.0         5.722382           65.049518\n",
       "129  95817       2.0         3.427095           41.641530\n",
       "130  95820       2.0         5.509989           63.702288\n",
       "131  95828       4.0         7.688830           47.976483\n",
       "132  95616       1.0         4.826902           79.282776\n",
       "133  95822       2.0         5.961569           66.451787\n",
       "134  95811       3.0         5.888622           49.054293\n",
       "135  95833       1.0         6.359241           84.274853\n",
       "136  95826       4.0         6.078265           34.191749\n",
       "138  95816       2.0         4.960648           59.682687\n",
       "140  95818       1.0         2.965908           66.283513"
      ]
     },
     "execution_count": 58,
     "metadata": {},
     "output_type": "execute_result"
    }
   ],
   "source": [
    "#Display Number of Dispensaries with model predicted number \n",
    "sacDFTarget[sacDFTarget['Num_Disp'] != 0][['Zip','Num_Disp','Predicted_Value','Percent_Difference']]"
   ]
  },
  {
   "cell_type": "code",
   "execution_count": 65,
   "id": "5915f1b3",
   "metadata": {
    "slideshow": {
     "slide_type": "subslide"
    }
   },
   "outputs": [
    {
     "data": {
      "text/html": [
       "\n",
       "        <iframe\n",
       "            width=\"700\"\n",
       "            height=\"700\"\n",
       "            src=\"https://public.tableau.com/app/profile/andrew.bly/viz/SacramentoDispensaries/Dashboard1\"\n",
       "            frameborder=\"0\"\n",
       "            allowfullscreen\n",
       "        ></iframe>\n",
       "        "
      ],
      "text/plain": [
       "<IPython.lib.display.IFrame at 0x23229aec320>"
      ]
     },
     "execution_count": 65,
     "metadata": {},
     "output_type": "execute_result"
    }
   ],
   "source": [
    "#Display visualization from tableau\n",
    "from IPython.display import IFrame\n",
    "IFrame('https://public.tableau.com/app/profile/andrew.bly/viz/SacramentoDispensaries/Dashboard1', width=700, height=700)"
   ]
  },
  {
   "cell_type": "code",
   "execution_count": 57,
   "id": "f483c4f9-1d37-4b33-b82a-88b6df220419",
   "metadata": {
    "slideshow": {
     "slide_type": "skip"
    }
   },
   "outputs": [],
   "source": [
    "#Save Data\n",
    "location = '../../data/sacDispDataSVR.csv'\n",
    "sacDFTarget.to_csv(location)"
   ]
  }
 ],
 "metadata": {
  "celltoolbar": "Slideshow",
  "kernelspec": {
   "display_name": "Python 3",
   "language": "python",
   "name": "python3"
  },
  "language_info": {
   "codemirror_mode": {
    "name": "ipython",
    "version": 3
   },
   "file_extension": ".py",
   "mimetype": "text/x-python",
   "name": "python",
   "nbconvert_exporter": "python",
   "pygments_lexer": "ipython3",
   "version": "3.6.10"
  }
 },
 "nbformat": 4,
 "nbformat_minor": 5
}
