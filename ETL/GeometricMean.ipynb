{
 "cells": [
  {
   "cell_type": "markdown",
   "metadata": {},
   "source": [
    "### Import Dependencies"
   ]
  },
  {
   "cell_type": "code",
   "execution_count": 1,
   "metadata": {},
   "outputs": [],
   "source": [
    "import pandas as pd\n",
    "import numpy as np\n",
    "from scipy.spatial.distance import cdist, euclidean\n",
    "import os\n",
    "import geojson as gj"
   ]
  },
  {
   "cell_type": "markdown",
   "metadata": {},
   "source": [
    "### Calculate Geometric Median for precincts in LA"
   ]
  },
  {
   "cell_type": "code",
   "execution_count": 2,
   "metadata": {},
   "outputs": [],
   "source": [
    "# https://stackoverflow.com/questions/30299267/geometric-median-of-multidimensional-points\n",
    "# https://www.pnas.org/content/pnas/97/4/1423.full.pdf\n",
    "\n",
    "def geometric_median(X, eps=1e-5):\n",
    "    y = np.mean(X, 0)\n",
    "\n",
    "    while True:\n",
    "        D = cdist(X, [y])\n",
    "        nonzeros = (D != 0)[:, 0]\n",
    "\n",
    "        Dinv = 1 / D[nonzeros]\n",
    "        Dinvs = np.sum(Dinv)\n",
    "        W = Dinv / Dinvs\n",
    "        T = np.sum(W * X[nonzeros], 0)\n",
    "\n",
    "        num_zeros = len(X) - np.sum(nonzeros)\n",
    "        if num_zeros == 0:\n",
    "            y1 = T\n",
    "        elif num_zeros == len(X):\n",
    "            return y\n",
    "        else:\n",
    "            R = (T - y) * Dinvs\n",
    "            r = np.linalg.norm(R)\n",
    "            rinv = 0 if r == 0 else num_zeros/r\n",
    "            y1 = max(0, 1-rinv)*T + min(1, rinv)*y\n",
    "\n",
    "        if euclidean(y, y1) < eps:\n",
    "            return y1\n",
    "\n",
    "        y = y1"
   ]
  },
  {
   "cell_type": "code",
   "execution_count": 3,
   "metadata": {},
   "outputs": [],
   "source": [
    "year = [2013,2014,2015,2016,2017,2018,2019]\n",
    "filePath = '../static/data/'\n",
    "fileName = f'crime_median'\n",
    "outputFile = f\"{filePath}{fileName}.geojson\"\n",
    "\n",
    "yearList=[]\n",
    "nameList=[]\n",
    "coordList=[]\n",
    "\n",
    "for y in year:\n",
    "    \n",
    "    inputFile = f\"{filePath}source/crime_{y}.json\"\n",
    "    crime_df = pd.read_json(inputFile).transpose()\n",
    "\n",
    "    #group by precinct \n",
    "    gb = crime_df.groupby(['LAPD_Area','Year'])    \n",
    "    split_crime_df = [gb.get_group(x) for x in gb.groups]\n",
    "\n",
    "    for i, e in enumerate(split_crime_df):\n",
    "        prec_crime_np = split_crime_df[i][['LAT','LON']].to_numpy()\n",
    "\n",
    "        c = list(geometric_median(prec_crime_np))\n",
    "        x = str(split_crime_df[i][\"LAPD_Area_Name\"].values[0])\n",
    "#         print(f\"{y} , {x}\")\n",
    "\n",
    "        yearList.append(y)\n",
    "        nameList.append(x)\n",
    "        coordList.append(c)\n",
    "    "
   ]
  },
  {
   "cell_type": "code",
   "execution_count": 4,
   "metadata": {},
   "outputs": [],
   "source": [
    "df = pd.DataFrame()\n",
    "df[\"Year\"] = yearList\n",
    "df[\"LAPD_Area_Name\"] = nameList\n",
    "df[\"Coordinates\"] = coordList\n",
    "df[['Long','Lat']] = pd.DataFrame(df.Coordinates.tolist(), index= df.index)"
   ]
  },
  {
   "cell_type": "code",
   "execution_count": 5,
   "metadata": {},
   "outputs": [
    {
     "data": {
      "text/html": [
       "<div>\n",
       "<style scoped>\n",
       "    .dataframe tbody tr th:only-of-type {\n",
       "        vertical-align: middle;\n",
       "    }\n",
       "\n",
       "    .dataframe tbody tr th {\n",
       "        vertical-align: top;\n",
       "    }\n",
       "\n",
       "    .dataframe thead th {\n",
       "        text-align: right;\n",
       "    }\n",
       "</style>\n",
       "<table border=\"1\" class=\"dataframe\">\n",
       "  <thead>\n",
       "    <tr style=\"text-align: right;\">\n",
       "      <th></th>\n",
       "      <th>Year</th>\n",
       "      <th>LAPD_Area_Name</th>\n",
       "      <th>Coordinates</th>\n",
       "      <th>Long</th>\n",
       "      <th>Lat</th>\n",
       "    </tr>\n",
       "  </thead>\n",
       "  <tbody>\n",
       "    <tr>\n",
       "      <th>0</th>\n",
       "      <td>2013</td>\n",
       "      <td>Central</td>\n",
       "      <td>[34.046268430317454, -118.25044004338203]</td>\n",
       "      <td>34.046268</td>\n",
       "      <td>-118.250440</td>\n",
       "    </tr>\n",
       "    <tr>\n",
       "      <th>1</th>\n",
       "      <td>2013</td>\n",
       "      <td>Rampart</td>\n",
       "      <td>[34.06107176670108, -118.27332504902962]</td>\n",
       "      <td>34.061072</td>\n",
       "      <td>-118.273325</td>\n",
       "    </tr>\n",
       "    <tr>\n",
       "      <th>2</th>\n",
       "      <td>2013</td>\n",
       "      <td>Southwest</td>\n",
       "      <td>[34.01838682642745, -118.31555108026427]</td>\n",
       "      <td>34.018387</td>\n",
       "      <td>-118.315551</td>\n",
       "    </tr>\n",
       "    <tr>\n",
       "      <th>3</th>\n",
       "      <td>2013</td>\n",
       "      <td>Hollenbeck</td>\n",
       "      <td>[34.05261478030283, -118.20472845179633]</td>\n",
       "      <td>34.052615</td>\n",
       "      <td>-118.204728</td>\n",
       "    </tr>\n",
       "    <tr>\n",
       "      <th>4</th>\n",
       "      <td>2013</td>\n",
       "      <td>Harbor</td>\n",
       "      <td>[33.764045318683266, -118.28659168098801]</td>\n",
       "      <td>33.764045</td>\n",
       "      <td>-118.286592</td>\n",
       "    </tr>\n",
       "  </tbody>\n",
       "</table>\n",
       "</div>"
      ],
      "text/plain": [
       "   Year LAPD_Area_Name                                Coordinates       Long  \\\n",
       "0  2013        Central  [34.046268430317454, -118.25044004338203]  34.046268   \n",
       "1  2013        Rampart   [34.06107176670108, -118.27332504902962]  34.061072   \n",
       "2  2013      Southwest   [34.01838682642745, -118.31555108026427]  34.018387   \n",
       "3  2013     Hollenbeck   [34.05261478030283, -118.20472845179633]  34.052615   \n",
       "4  2013         Harbor  [33.764045318683266, -118.28659168098801]  33.764045   \n",
       "\n",
       "          Lat  \n",
       "0 -118.250440  \n",
       "1 -118.273325  \n",
       "2 -118.315551  \n",
       "3 -118.204728  \n",
       "4 -118.286592  "
      ]
     },
     "execution_count": 5,
     "metadata": {},
     "output_type": "execute_result"
    }
   ],
   "source": [
    "# df.dtypes\n",
    "df.head()"
   ]
  },
  {
   "cell_type": "code",
   "execution_count": 6,
   "metadata": {},
   "outputs": [],
   "source": [
    "def data2geojson(df, filename):\n",
    "    features = []\n",
    "    insert_features = lambda X: features.append(\n",
    "            gj.Feature(geometry=gj.Point((X[\"Lat\"],\n",
    "                                          X[\"Long\"]\n",
    "#                                           ,X[\"elev\"]\n",
    "                                         )),\n",
    "                            properties=dict(lapd_area_name=X[\"LAPD_Area_Name\"],\n",
    "                                            year = X[\"Year\"])))\n",
    "    df.apply(insert_features, axis=1)\n",
    "    with open(filename, 'w', encoding='utf8') as fp:\n",
    "        gj.dump(gj.FeatureCollection(features), fp, sort_keys=True, ensure_ascii=False)"
   ]
  },
  {
   "cell_type": "code",
   "execution_count": 7,
   "metadata": {},
   "outputs": [],
   "source": [
    "data2geojson(df, outputFile)"
   ]
  },
  {
   "cell_type": "code",
   "execution_count": null,
   "metadata": {},
   "outputs": [],
   "source": []
  }
 ],
 "metadata": {
  "kernelspec": {
   "display_name": "Python 3",
   "language": "python",
   "name": "python3"
  },
  "language_info": {
   "codemirror_mode": {
    "name": "ipython",
    "version": 3
   },
   "file_extension": ".py",
   "mimetype": "text/x-python",
   "name": "python",
   "nbconvert_exporter": "python",
   "pygments_lexer": "ipython3",
   "version": "3.8.5"
  }
 },
 "nbformat": 4,
 "nbformat_minor": 5
}
